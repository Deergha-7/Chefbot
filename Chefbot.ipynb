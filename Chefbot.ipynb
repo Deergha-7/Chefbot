{
  "nbformat": 4,
  "nbformat_minor": 0,
  "metadata": {
    "colab": {
      "provenance": [],
      "gpuType": "T4"
    },
    "kernelspec": {
      "name": "python3",
      "display_name": "Python 3"
    },
    "language_info": {
      "name": "python"
    },
    "accelerator": "GPU"
  },
  "cells": [
    {
      "cell_type": "code",
      "source": [
        "!pip install gradio"
      ],
      "metadata": {
        "id": "vdB3_VIkAxcZ",
        "colab": {
          "base_uri": "https://localhost:8080/"
        },
        "outputId": "c5eb70f4-6e33-4b25-d475-f1d1b8c7d8ac"
      },
      "execution_count": 1,
      "outputs": [
        {
          "output_type": "stream",
          "name": "stdout",
          "text": [
            "Collecting gradio\n",
            "  Downloading gradio-5.9.1-py3-none-any.whl.metadata (16 kB)\n",
            "Collecting aiofiles<24.0,>=22.0 (from gradio)\n",
            "  Downloading aiofiles-23.2.1-py3-none-any.whl.metadata (9.7 kB)\n",
            "Requirement already satisfied: anyio<5.0,>=3.0 in /usr/local/lib/python3.10/dist-packages (from gradio) (3.7.1)\n",
            "Collecting fastapi<1.0,>=0.115.2 (from gradio)\n",
            "  Downloading fastapi-0.115.6-py3-none-any.whl.metadata (27 kB)\n",
            "Collecting ffmpy (from gradio)\n",
            "  Downloading ffmpy-0.5.0-py3-none-any.whl.metadata (3.0 kB)\n",
            "Collecting gradio-client==1.5.2 (from gradio)\n",
            "  Downloading gradio_client-1.5.2-py3-none-any.whl.metadata (7.1 kB)\n",
            "Requirement already satisfied: httpx>=0.24.1 in /usr/local/lib/python3.10/dist-packages (from gradio) (0.28.1)\n",
            "Requirement already satisfied: huggingface-hub>=0.25.1 in /usr/local/lib/python3.10/dist-packages (from gradio) (0.27.0)\n",
            "Requirement already satisfied: jinja2<4.0 in /usr/local/lib/python3.10/dist-packages (from gradio) (3.1.4)\n",
            "Collecting markupsafe~=2.0 (from gradio)\n",
            "  Downloading MarkupSafe-2.1.5-cp310-cp310-manylinux_2_17_x86_64.manylinux2014_x86_64.whl.metadata (3.0 kB)\n",
            "Requirement already satisfied: numpy<3.0,>=1.0 in /usr/local/lib/python3.10/dist-packages (from gradio) (1.26.4)\n",
            "Requirement already satisfied: orjson~=3.0 in /usr/local/lib/python3.10/dist-packages (from gradio) (3.10.12)\n",
            "Requirement already satisfied: packaging in /usr/local/lib/python3.10/dist-packages (from gradio) (24.2)\n",
            "Requirement already satisfied: pandas<3.0,>=1.0 in /usr/local/lib/python3.10/dist-packages (from gradio) (2.2.2)\n",
            "Requirement already satisfied: pillow<12.0,>=8.0 in /usr/local/lib/python3.10/dist-packages (from gradio) (11.0.0)\n",
            "Requirement already satisfied: pydantic>=2.0 in /usr/local/lib/python3.10/dist-packages (from gradio) (2.10.3)\n",
            "Collecting pydub (from gradio)\n",
            "  Downloading pydub-0.25.1-py2.py3-none-any.whl.metadata (1.4 kB)\n",
            "Collecting python-multipart>=0.0.18 (from gradio)\n",
            "  Downloading python_multipart-0.0.20-py3-none-any.whl.metadata (1.8 kB)\n",
            "Requirement already satisfied: pyyaml<7.0,>=5.0 in /usr/local/lib/python3.10/dist-packages (from gradio) (6.0.2)\n",
            "Collecting ruff>=0.2.2 (from gradio)\n",
            "  Downloading ruff-0.8.4-py3-none-manylinux_2_17_x86_64.manylinux2014_x86_64.whl.metadata (25 kB)\n",
            "Collecting safehttpx<0.2.0,>=0.1.6 (from gradio)\n",
            "  Downloading safehttpx-0.1.6-py3-none-any.whl.metadata (4.2 kB)\n",
            "Collecting semantic-version~=2.0 (from gradio)\n",
            "  Downloading semantic_version-2.10.0-py2.py3-none-any.whl.metadata (9.7 kB)\n",
            "Collecting starlette<1.0,>=0.40.0 (from gradio)\n",
            "  Downloading starlette-0.42.0-py3-none-any.whl.metadata (6.0 kB)\n",
            "Collecting tomlkit<0.14.0,>=0.12.0 (from gradio)\n",
            "  Downloading tomlkit-0.13.2-py3-none-any.whl.metadata (2.7 kB)\n",
            "Requirement already satisfied: typer<1.0,>=0.12 in /usr/local/lib/python3.10/dist-packages (from gradio) (0.15.1)\n",
            "Requirement already satisfied: typing-extensions~=4.0 in /usr/local/lib/python3.10/dist-packages (from gradio) (4.12.2)\n",
            "Collecting uvicorn>=0.14.0 (from gradio)\n",
            "  Downloading uvicorn-0.34.0-py3-none-any.whl.metadata (6.5 kB)\n",
            "Requirement already satisfied: fsspec in /usr/local/lib/python3.10/dist-packages (from gradio-client==1.5.2->gradio) (2024.10.0)\n",
            "Requirement already satisfied: websockets<15.0,>=10.0 in /usr/local/lib/python3.10/dist-packages (from gradio-client==1.5.2->gradio) (14.1)\n",
            "Requirement already satisfied: idna>=2.8 in /usr/local/lib/python3.10/dist-packages (from anyio<5.0,>=3.0->gradio) (3.10)\n",
            "Requirement already satisfied: sniffio>=1.1 in /usr/local/lib/python3.10/dist-packages (from anyio<5.0,>=3.0->gradio) (1.3.1)\n",
            "Requirement already satisfied: exceptiongroup in /usr/local/lib/python3.10/dist-packages (from anyio<5.0,>=3.0->gradio) (1.2.2)\n",
            "Collecting starlette<1.0,>=0.40.0 (from gradio)\n",
            "  Downloading starlette-0.41.3-py3-none-any.whl.metadata (6.0 kB)\n",
            "Requirement already satisfied: certifi in /usr/local/lib/python3.10/dist-packages (from httpx>=0.24.1->gradio) (2024.12.14)\n",
            "Requirement already satisfied: httpcore==1.* in /usr/local/lib/python3.10/dist-packages (from httpx>=0.24.1->gradio) (1.0.7)\n",
            "Requirement already satisfied: h11<0.15,>=0.13 in /usr/local/lib/python3.10/dist-packages (from httpcore==1.*->httpx>=0.24.1->gradio) (0.14.0)\n",
            "Requirement already satisfied: filelock in /usr/local/lib/python3.10/dist-packages (from huggingface-hub>=0.25.1->gradio) (3.16.1)\n",
            "Requirement already satisfied: requests in /usr/local/lib/python3.10/dist-packages (from huggingface-hub>=0.25.1->gradio) (2.32.3)\n",
            "Requirement already satisfied: tqdm>=4.42.1 in /usr/local/lib/python3.10/dist-packages (from huggingface-hub>=0.25.1->gradio) (4.67.1)\n",
            "Requirement already satisfied: python-dateutil>=2.8.2 in /usr/local/lib/python3.10/dist-packages (from pandas<3.0,>=1.0->gradio) (2.8.2)\n",
            "Requirement already satisfied: pytz>=2020.1 in /usr/local/lib/python3.10/dist-packages (from pandas<3.0,>=1.0->gradio) (2024.2)\n",
            "Requirement already satisfied: tzdata>=2022.7 in /usr/local/lib/python3.10/dist-packages (from pandas<3.0,>=1.0->gradio) (2024.2)\n",
            "Requirement already satisfied: annotated-types>=0.6.0 in /usr/local/lib/python3.10/dist-packages (from pydantic>=2.0->gradio) (0.7.0)\n",
            "Requirement already satisfied: pydantic-core==2.27.1 in /usr/local/lib/python3.10/dist-packages (from pydantic>=2.0->gradio) (2.27.1)\n",
            "Requirement already satisfied: click>=8.0.0 in /usr/local/lib/python3.10/dist-packages (from typer<1.0,>=0.12->gradio) (8.1.7)\n",
            "Requirement already satisfied: shellingham>=1.3.0 in /usr/local/lib/python3.10/dist-packages (from typer<1.0,>=0.12->gradio) (1.5.4)\n",
            "Requirement already satisfied: rich>=10.11.0 in /usr/local/lib/python3.10/dist-packages (from typer<1.0,>=0.12->gradio) (13.9.4)\n",
            "Requirement already satisfied: six>=1.5 in /usr/local/lib/python3.10/dist-packages (from python-dateutil>=2.8.2->pandas<3.0,>=1.0->gradio) (1.17.0)\n",
            "Requirement already satisfied: markdown-it-py>=2.2.0 in /usr/local/lib/python3.10/dist-packages (from rich>=10.11.0->typer<1.0,>=0.12->gradio) (3.0.0)\n",
            "Requirement already satisfied: pygments<3.0.0,>=2.13.0 in /usr/local/lib/python3.10/dist-packages (from rich>=10.11.0->typer<1.0,>=0.12->gradio) (2.18.0)\n",
            "Requirement already satisfied: charset-normalizer<4,>=2 in /usr/local/lib/python3.10/dist-packages (from requests->huggingface-hub>=0.25.1->gradio) (3.4.0)\n",
            "Requirement already satisfied: urllib3<3,>=1.21.1 in /usr/local/lib/python3.10/dist-packages (from requests->huggingface-hub>=0.25.1->gradio) (2.2.3)\n",
            "Requirement already satisfied: mdurl~=0.1 in /usr/local/lib/python3.10/dist-packages (from markdown-it-py>=2.2.0->rich>=10.11.0->typer<1.0,>=0.12->gradio) (0.1.2)\n",
            "Downloading gradio-5.9.1-py3-none-any.whl (57.2 MB)\n",
            "\u001b[2K   \u001b[90m━━━━━━━━━━━━━━━━━━━━━━━━━━━━━━━━━━━━━━━━\u001b[0m \u001b[32m57.2/57.2 MB\u001b[0m \u001b[31m7.7 MB/s\u001b[0m eta \u001b[36m0:00:00\u001b[0m\n",
            "\u001b[?25hDownloading gradio_client-1.5.2-py3-none-any.whl (320 kB)\n",
            "\u001b[2K   \u001b[90m━━━━━━━━━━━━━━━━━━━━━━━━━━━━━━━━━━━━━━━━\u001b[0m \u001b[32m320.4/320.4 kB\u001b[0m \u001b[31m21.0 MB/s\u001b[0m eta \u001b[36m0:00:00\u001b[0m\n",
            "\u001b[?25hDownloading aiofiles-23.2.1-py3-none-any.whl (15 kB)\n",
            "Downloading fastapi-0.115.6-py3-none-any.whl (94 kB)\n",
            "\u001b[2K   \u001b[90m━━━━━━━━━━━━━━━━━━━━━━━━━━━━━━━━━━━━━━━━\u001b[0m \u001b[32m94.8/94.8 kB\u001b[0m \u001b[31m4.0 MB/s\u001b[0m eta \u001b[36m0:00:00\u001b[0m\n",
            "\u001b[?25hDownloading MarkupSafe-2.1.5-cp310-cp310-manylinux_2_17_x86_64.manylinux2014_x86_64.whl (25 kB)\n",
            "Downloading python_multipart-0.0.20-py3-none-any.whl (24 kB)\n",
            "Downloading ruff-0.8.4-py3-none-manylinux_2_17_x86_64.manylinux2014_x86_64.whl (11.2 MB)\n",
            "\u001b[2K   \u001b[90m━━━━━━━━━━━━━━━━━━━━━━━━━━━━━━━━━━━━━━━━\u001b[0m \u001b[32m11.2/11.2 MB\u001b[0m \u001b[31m35.4 MB/s\u001b[0m eta \u001b[36m0:00:00\u001b[0m\n",
            "\u001b[?25hDownloading safehttpx-0.1.6-py3-none-any.whl (8.7 kB)\n",
            "Downloading semantic_version-2.10.0-py2.py3-none-any.whl (15 kB)\n",
            "Downloading starlette-0.41.3-py3-none-any.whl (73 kB)\n",
            "\u001b[2K   \u001b[90m━━━━━━━━━━━━━━━━━━━━━━━━━━━━━━━━━━━━━━━━\u001b[0m \u001b[32m73.2/73.2 kB\u001b[0m \u001b[31m6.1 MB/s\u001b[0m eta \u001b[36m0:00:00\u001b[0m\n",
            "\u001b[?25hDownloading tomlkit-0.13.2-py3-none-any.whl (37 kB)\n",
            "Downloading uvicorn-0.34.0-py3-none-any.whl (62 kB)\n",
            "\u001b[2K   \u001b[90m━━━━━━━━━━━━━━━━━━━━━━━━━━━━━━━━━━━━━━━━\u001b[0m \u001b[32m62.3/62.3 kB\u001b[0m \u001b[31m4.3 MB/s\u001b[0m eta \u001b[36m0:00:00\u001b[0m\n",
            "\u001b[?25hDownloading ffmpy-0.5.0-py3-none-any.whl (6.0 kB)\n",
            "Downloading pydub-0.25.1-py2.py3-none-any.whl (32 kB)\n",
            "Installing collected packages: pydub, uvicorn, tomlkit, semantic-version, ruff, python-multipart, markupsafe, ffmpy, aiofiles, starlette, safehttpx, gradio-client, fastapi, gradio\n",
            "  Attempting uninstall: markupsafe\n",
            "    Found existing installation: MarkupSafe 3.0.2\n",
            "    Uninstalling MarkupSafe-3.0.2:\n",
            "      Successfully uninstalled MarkupSafe-3.0.2\n",
            "Successfully installed aiofiles-23.2.1 fastapi-0.115.6 ffmpy-0.5.0 gradio-5.9.1 gradio-client-1.5.2 markupsafe-2.1.5 pydub-0.25.1 python-multipart-0.0.20 ruff-0.8.4 safehttpx-0.1.6 semantic-version-2.10.0 starlette-0.41.3 tomlkit-0.13.2 uvicorn-0.34.0\n"
          ]
        }
      ]
    },
    {
      "cell_type": "code",
      "source": [],
      "metadata": {
        "id": "wfDza7bUD_nc"
      },
      "execution_count": null,
      "outputs": []
    },
    {
      "cell_type": "code",
      "source": [
        "!pip install beautifulsoup4\n"
      ],
      "metadata": {
        "colab": {
          "base_uri": "https://localhost:8080/"
        },
        "id": "hfcteBk5N8HL",
        "outputId": "8fca8c26-b4ce-4b92-e793-588775b4f1d5"
      },
      "execution_count": 33,
      "outputs": [
        {
          "output_type": "stream",
          "name": "stdout",
          "text": [
            "Requirement already satisfied: beautifulsoup4 in /usr/local/lib/python3.10/dist-packages (4.12.3)\n",
            "Requirement already satisfied: soupsieve>1.2 in /usr/local/lib/python3.10/dist-packages (from beautifulsoup4) (2.6)\n"
          ]
        }
      ]
    },
    {
      "cell_type": "code",
      "source": [
        "from bs4 import BeautifulSoup\n",
        "\n",
        "def fetch_recipe(dish):\n",
        "    api_key = \"5a92be6a1d0c411197ac5692c09d6a2f\"  # Replace with your valid API key\n",
        "    search_url = f\"https://api.spoonacular.com/recipes/complexSearch?query={dish}&apiKey={api_key}&number=1\"\n",
        "    try:\n",
        "        response = requests.get(search_url).json()\n",
        "        if 'results' in response and response['results']:\n",
        "            recipe_id = response['results'][0]['id']\n",
        "            recipe_url = f\"https://api.spoonacular.com/recipes/{recipe_id}/information?apiKey={api_key}&includeNutrition=false\"\n",
        "            details = requests.get(recipe_url).json()\n",
        "            ingredients = details.get('extendedIngredients', [])\n",
        "            instructions_html = details.get('instructions', 'No instructions found.')\n",
        "\n",
        "            # Clean HTML using BeautifulSoup\n",
        "            soup = BeautifulSoup(instructions_html, \"html.parser\")\n",
        "            instructions = soup.get_text()\n",
        "\n",
        "            image_url = details.get('image', f\"https://via.placeholder.com/400x400.png?text={dish.replace(' ', '+')}\")\n",
        "            ingredient_list = [f\"{item['original']}\" for item in ingredients]\n",
        "            return ingredient_list, instructions, image_url\n",
        "        else:\n",
        "            return None, f\"No recipes found for the dish: {dish}.\", None\n",
        "    except Exception as e:\n",
        "        return None, f\"Error fetching recipe: {str(e)}\", None\n"
      ],
      "metadata": {
        "id": "FTASNzIrN83F"
      },
      "execution_count": 29,
      "outputs": []
    },
    {
      "cell_type": "code",
      "source": [
        "def generate_recipe(dish):\n",
        "    ingredients, instructions, image_url = fetch_recipe(dish)\n",
        "    if not ingredients:\n",
        "        return \"Recipe not found!\", None, None\n",
        "\n",
        "    # Create HTML for ingredients and steps\n",
        "    ingredient_text = \"<br>\".join([f\"• {item}\" for item in ingredients])\n",
        "    full_recipe_html = f\"\"\"\n",
        "    <h3>Ingredients:</h3>\n",
        "    <p>{ingredient_text}</p>\n",
        "    <h3>Steps:</h3>\n",
        "    {instructions}  <!-- This keeps the HTML formatting -->\n",
        "    \"\"\"\n",
        "\n",
        "    # Generate and display the image\n",
        "    response = requests.get(image_url)\n",
        "    generated_image = Image.open(BytesIO(response.content))\n",
        "\n",
        "    # Create YouTube link\n",
        "    youtube_link = f\"https://www.youtube.com/results?search_query={dish}+recipe\"\n",
        "    youtube_html = f'<a href=\"{youtube_link}\" target=\"_blank\">Watch Recipe on YouTube</a>'\n",
        "\n",
        "    return full_recipe_html, generated_image, youtube_html\n"
      ],
      "metadata": {
        "id": "YoHWar9xOBpl"
      },
      "execution_count": 30,
      "outputs": []
    },
    {
      "cell_type": "code",
      "source": [
        "gr.Interface(\n",
        "    fn=generate_recipe,\n",
        "    inputs=gr.Textbox(placeholder=\"Enter dish name\", label=\"Dish Name\"),\n",
        "    outputs=[\n",
        "        gr.HTML(label=\"Recipe Instructions\"),\n",
        "        gr.Image(label=\"Dish Image\"),\n",
        "        gr.HTML(label=\"YouTube Link\")\n",
        "    ]\n",
        ").launch()\n"
      ],
      "metadata": {
        "colab": {
          "base_uri": "https://localhost:8080/",
          "height": 646
        },
        "id": "X-ASBSDdSBvU",
        "outputId": "b5a8e427-2cdb-4c6f-898f-7258fde983d2"
      },
      "execution_count": 26,
      "outputs": [
        {
          "output_type": "stream",
          "name": "stdout",
          "text": [
            "Running Gradio in a Colab notebook requires sharing enabled. Automatically setting `share=True` (you can turn this off by setting `share=False` in `launch()` explicitly).\n",
            "\n",
            "Colab notebook detected. To show errors in colab notebook, set debug=True in launch()\n",
            "* Running on public URL: https://c8428ba611ab7a5a7a.gradio.live\n",
            "\n",
            "This share link expires in 72 hours. For free permanent hosting and GPU upgrades, run `gradio deploy` from the terminal in the working directory to deploy to Hugging Face Spaces (https://huggingface.co/spaces)\n"
          ]
        },
        {
          "output_type": "display_data",
          "data": {
            "text/plain": [
              "<IPython.core.display.HTML object>"
            ],
            "text/html": [
              "<div><iframe src=\"https://c8428ba611ab7a5a7a.gradio.live\" width=\"100%\" height=\"500\" allow=\"autoplay; camera; microphone; clipboard-read; clipboard-write;\" frameborder=\"0\" allowfullscreen></iframe></div>"
            ]
          },
          "metadata": {}
        },
        {
          "output_type": "execute_result",
          "data": {
            "text/plain": []
          },
          "metadata": {},
          "execution_count": 26
        }
      ]
    },
    {
      "cell_type": "markdown",
      "source": [
        "Similar recipe Recommendations"
      ],
      "metadata": {
        "id": "gDJEf0j2SCe4"
      }
    },
    {
      "cell_type": "code",
      "source": [
        "def fetch_similar_recipes(recipe_id, api_key):\n",
        "    similar_url = f\"https://api.spoonacular.com/recipes/{recipe_id}/similar?apiKey={api_key}&number=3\"\n",
        "    try:\n",
        "        response = requests.get(similar_url).json()\n",
        "        similar_recipes = [f\"{item['title']} - {item['sourceUrl']}\" for item in response]\n",
        "        return similar_recipes\n",
        "    except Exception as e:\n",
        "        return [f\"Error fetching similar recipes: {str(e)}\"]\n"
      ],
      "metadata": {
        "id": "pYVpmg4pOWgh"
      },
      "execution_count": 34,
      "outputs": []
    },
    {
      "cell_type": "code",
      "source": [
        "def fetch_recipe(dish):\n",
        "    api_key = \"5a92be6a1d0c411197ac5692c09d6a2f\"  # Replace with your Spoonacular API key\n",
        "    search_url = f\"https://api.spoonacular.com/recipes/complexSearch?query={dish}&apiKey={api_key}&number=1\"\n",
        "    try:\n",
        "        response = requests.get(search_url).json()\n",
        "        if 'results' in response and response['results']:\n",
        "            recipe_id = response['results'][0]['id']\n",
        "            recipe_url = f\"https://api.spoonacular.com/recipes/{recipe_id}/information?apiKey={api_key}&includeNutrition=false\"\n",
        "            details = requests.get(recipe_url).json()\n",
        "            ingredients = details.get('extendedIngredients', [])\n",
        "            instructions_html = details.get('instructions', 'No instructions found.')\n",
        "\n",
        "            # Clean HTML using BeautifulSoup\n",
        "            soup = BeautifulSoup(instructions_html, \"html.parser\")\n",
        "            instructions = soup.get_text()\n",
        "\n",
        "            image_url = details.get('image', f\"https://via.placeholder.com/400x400.png?text={dish.replace(' ', '+')}\")\n",
        "            ingredient_list = [f\"{item['original']}\" for item in ingredients]\n",
        "\n",
        "            # Fetch similar recipes\n",
        "            similar_recipes = fetch_similar_recipes(recipe_id, api_key)\n",
        "\n",
        "            return ingredient_list, instructions, image_url, similar_recipes\n",
        "        else:\n",
        "            return None, f\"No recipes found for the dish: {dish}.\", None, []\n",
        "    except Exception as e:\n",
        "        return None, f\"Error fetching recipe: {str(e)}\", None, []\n"
      ],
      "metadata": {
        "id": "o_LAzir6PcW8"
      },
      "execution_count": 35,
      "outputs": []
    },
    {
      "cell_type": "markdown",
      "source": [
        "Speech synthesis"
      ],
      "metadata": {
        "id": "KPkj1R8ERemY"
      }
    },
    {
      "cell_type": "code",
      "source": [
        "!pip install gtts\n"
      ],
      "metadata": {
        "colab": {
          "base_uri": "https://localhost:8080/"
        },
        "id": "I9ZH7DBhP96Q",
        "outputId": "716d185c-7c00-4825-fe42-91da5646aa3a"
      },
      "execution_count": 36,
      "outputs": [
        {
          "output_type": "stream",
          "name": "stdout",
          "text": [
            "Requirement already satisfied: gtts in /usr/local/lib/python3.10/dist-packages (2.5.4)\n",
            "Requirement already satisfied: requests<3,>=2.27 in /usr/local/lib/python3.10/dist-packages (from gtts) (2.32.3)\n",
            "Requirement already satisfied: click<8.2,>=7.1 in /usr/local/lib/python3.10/dist-packages (from gtts) (8.1.7)\n",
            "Requirement already satisfied: charset-normalizer<4,>=2 in /usr/local/lib/python3.10/dist-packages (from requests<3,>=2.27->gtts) (3.4.0)\n",
            "Requirement already satisfied: idna<4,>=2.5 in /usr/local/lib/python3.10/dist-packages (from requests<3,>=2.27->gtts) (3.10)\n",
            "Requirement already satisfied: urllib3<3,>=1.21.1 in /usr/local/lib/python3.10/dist-packages (from requests<3,>=2.27->gtts) (2.2.3)\n",
            "Requirement already satisfied: certifi>=2017.4.17 in /usr/local/lib/python3.10/dist-packages (from requests<3,>=2.27->gtts) (2024.12.14)\n"
          ]
        }
      ]
    },
    {
      "cell_type": "code",
      "source": [
        "from gtts import gTTS\n",
        "import os\n",
        "\n",
        "def text_to_speech(text, output_file=\"recipe_audio.mp3\"):\n",
        "    try:\n",
        "        tts = gTTS(text)\n",
        "        tts.save(output_file)\n",
        "        return output_file\n",
        "    except Exception as e:\n",
        "        return f\"Error generating speech: {str(e)}\"\n"
      ],
      "metadata": {
        "id": "TZLrTo4YP_Oo"
      },
      "execution_count": 37,
      "outputs": []
    },
    {
      "cell_type": "code",
      "source": [
        "def generate_recipe(dish):\n",
        "    ingredients, instructions, image_url, similar_recipes = fetch_recipe(dish)\n",
        "    if not ingredients:\n",
        "        return \"Recipe not found!\", None, None, []\n",
        "\n",
        "    # Create text for TTS\n",
        "    tts_text = f\"Here is the recipe for {dish}. Ingredients: \" + \", \".join(ingredients) + \". Steps: \" + instructions\n",
        "\n",
        "    # Generate TTS\n",
        "    tts_file = text_to_speech(tts_text)\n",
        "\n",
        "    # Create HTML for similar recipes\n",
        "    similar_recipes_html = \"<br>\".join([f\"• {recipe}\" for recipe in similar_recipes])\n",
        "\n",
        "    # Generate and display the image\n",
        "    response = requests.get(image_url)\n",
        "    generated_image = Image.open(BytesIO(response.content))\n",
        "\n",
        "    # Create YouTube link\n",
        "    youtube_link = f\"https://www.youtube.com/results?search_query={dish}+recipe\"\n",
        "\n",
        "    return (\n",
        "        f\"<h3>Ingredients:</h3><p>{'<br>'.join(ingredients)}</p><h3>Steps:</h3>{instructions}\",\n",
        "        generated_image,\n",
        "        f'<a href=\"{youtube_link}\" target=\"_blank\">Watch Recipe on YouTube</a>',\n",
        "        f\"<h3>Similar Recipes:</h3><p>{similar_recipes_html}</p>\",\n",
        "        tts_file,\n",
        "    )\n"
      ],
      "metadata": {
        "id": "4FMGx6u_QByd"
      },
      "execution_count": 38,
      "outputs": []
    },
    {
      "cell_type": "code",
      "source": [
        "gr.Interface(\n",
        "    fn=generate_recipe,\n",
        "    inputs=gr.Textbox(placeholder=\"Enter dish name\", label=\"Dish Name\"),\n",
        "    outputs=[\n",
        "        gr.HTML(label=\"Recipe Instructions\"),\n",
        "        gr.Image(label=\"Dish Image\"),\n",
        "        gr.HTML(label=\"YouTube Link\"),\n",
        "        gr.HTML(label=\"Similar Recipes\"),\n",
        "        gr.Audio(label=\"Recipe Audio\"),\n",
        "    ],\n",
        "    live=True\n",
        ").launch()\n"
      ],
      "metadata": {
        "colab": {
          "base_uri": "https://localhost:8080/",
          "height": 646
        },
        "id": "mnOdb4azQEs6",
        "outputId": "d19445e3-7314-4cee-b5be-40b06c37bb98"
      },
      "execution_count": 40,
      "outputs": [
        {
          "output_type": "stream",
          "name": "stdout",
          "text": [
            "Running Gradio in a Colab notebook requires sharing enabled. Automatically setting `share=True` (you can turn this off by setting `share=False` in `launch()` explicitly).\n",
            "\n",
            "Colab notebook detected. To show errors in colab notebook, set debug=True in launch()\n",
            "* Running on public URL: https://d927349d77c35d2bab.gradio.live\n",
            "\n",
            "This share link expires in 72 hours. For free permanent hosting and GPU upgrades, run `gradio deploy` from the terminal in the working directory to deploy to Hugging Face Spaces (https://huggingface.co/spaces)\n"
          ]
        },
        {
          "output_type": "display_data",
          "data": {
            "text/plain": [
              "<IPython.core.display.HTML object>"
            ],
            "text/html": [
              "<div><iframe src=\"https://d927349d77c35d2bab.gradio.live\" width=\"100%\" height=\"500\" allow=\"autoplay; camera; microphone; clipboard-read; clipboard-write;\" frameborder=\"0\" allowfullscreen></iframe></div>"
            ]
          },
          "metadata": {}
        },
        {
          "output_type": "execute_result",
          "data": {
            "text/plain": []
          },
          "metadata": {},
          "execution_count": 40
        }
      ]
    },
    {
      "cell_type": "code",
      "source": [],
      "metadata": {
        "id": "wvctPHppQIP2"
      },
      "execution_count": null,
      "outputs": []
    }
  ]
}